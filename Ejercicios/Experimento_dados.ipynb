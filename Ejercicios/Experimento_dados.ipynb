{
 "cells": [
  {
   "cell_type": "markdown",
   "id": "1d88e11a-0dbb-4015-bf83-8e0bdf671b13",
   "metadata": {},
   "source": [
    "# Macroestados\n",
    "\n",
    "### Planteamiento del problema:\n",
    "Obtener la ecuación (o programa) que exprese la probabilidad de obtener el macroestado $E$ a partir de $N$ dados"
   ]
  },
  {
   "cell_type": "code",
   "execution_count": 14,
   "id": "f5749ce2-8397-4aa1-8b71-b0525bbb6ef4",
   "metadata": {},
   "outputs": [],
   "source": [
    "from random import choice\n",
    "import matplotlib.pyplot as plt"
   ]
  },
  {
   "cell_type": "code",
   "execution_count": 15,
   "id": "d465769f-a053-4e99-98a7-13097967e49c",
   "metadata": {},
   "outputs": [],
   "source": [
    "def obtener_lanzamiento(n:int, muestral=[1,2,3,4,5,6]):\n",
    "    min_val= muestral[0] * n\n",
    "    max_val= muestral[-1] * n\n",
    "    \n",
    "    return min_val, max_val, [ choice(muestral) for _ in range(n) ]"
   ]
  },
  {
   "cell_type": "code",
   "execution_count": 16,
   "id": "e8f35c8d-c96c-4711-b665-f69cd63c3d9d",
   "metadata": {},
   "outputs": [],
   "source": [
    "macroestado= 10\n",
    "n_experimentos= 1000\n",
    "l_exitos= []\n",
    "\n",
    "for n in range(1, 10):\n",
    "    n_exitos= 0\n",
    "    for experimento in range(n_experimentos):\n",
    "        min_val, max_val, res= obtener_lanzamiento( n )\n",
    "        n_exitos+= 1 if sum(res) == macroestado else 0",
    "        #if( sum(res) == macroestado ):\n",
    "            #n_exitos+= 1\n",
    "    l_exitos.append( n_exitos )\n"
   ]
  },
  {
   "cell_type": "code",
   "execution_count": 17,
   "id": "82b98704-0108-4fa3-94a8-c639d37b3ecf",
   "metadata": {},
   "outputs": [
    {
     "name": "stdout",
     "output_type": "stream",
     "text": [
      "La probabilidad para 3 dados es de 0.0\n",
      "La probabilidad para 4 dados es de 0.088\n",
      "La probabilidad para 5 dados es de 0.142\n",
      "La probabilidad para 6 dados es de 0.068\n",
      "La probabilidad para 7 dados es de 0.014\n",
      "La probabilidad para 8 dados es de 0.002\n",
      "La probabilidad para 9 dados es de 0.0\n",
      "La probabilidad para 10 dados es de 0.0\n",
      "La probabilidad para 11 dados es de 0.0\n"
     ]
    }
   ],
   "source": [
    "for i in range(len(l_exitos)):\n",
    "    print(f\"La probabilidad para {i + 3} dados es de {l_exitos[i] / n_experimentos }\")"
   ]
  },
  {
   "cell_type": "code",
   "execution_count": 21,
   "id": "46a9675c-785a-4f69-8b5f-93a48eb3c8f1",
   "metadata": {},
   "outputs": [
    {
     "data": {
      "text/plain": [
       "<BarContainer object of 9 artists>"
      ]
     },
     "execution_count": 21,
     "metadata": {},
     "output_type": "execute_result"
    },
    {
     "data": {
      "image/png": "[encoded data removed]",
      "text/plain": [
       "<Figure size 432x288 with 1 Axes>"
      ]
     },
     "metadata": {
      "needs_background": "light"
     },
     "output_type": "display_data"
    }
   ],
   "source": [
    "plt.bar([i + 3 for i in range(len(l_exitos))], [exito / n_experimentos for exito in l_exitos] )"
   ]
  },
  {
   "cell_type": "code",
   "execution_count": null,
   "id": "f05e47b9-fe24-43a1-b20f-8ab9751ec1cd",
   "metadata": {},
   "outputs": [],
   "source": []
  }
 ],
 "metadata": {
  "kernelspec": {
   "display_name": "Python 3.10.0 ('maestria')",
   "language": "python",
   "name": "python3100jvsc74a57bd07762ebd60544f968f8e269abea15df76463f6800ef56f050d75cc52a34f97881"
  },
  "language_info": {
   "codemirror_mode": {
    "name": "ipython",
    "version": 3
   },
   "file_extension": ".py",
   "mimetype": "text/x-python",
   "name": "python",
   "nbconvert_exporter": "python",
   "pygments_lexer": "ipython3",
   "version": "3.10.0"
  }
 },
 "nbformat": 4,
 "nbformat_minor": 5
}
