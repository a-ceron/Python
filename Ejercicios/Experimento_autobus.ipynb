{
 "cells": [
  {
   "cell_type": "markdown",
   "id": "693ddb45-c296-4149-978f-78047199b4e2",
   "metadata": {},
   "source": [
    "# ¿Qué se observa si los pasajeros no respetan su boleto?\n",
    "\n",
    "### Planteamiento del problema:\n",
    "\n",
    "Existen $n$ pasajeros y $n$ asientos:\n",
    "1. Cada pasajero subirá y con una probabilidad de $P$ se sentará en el asiento que dice su boleto (si $P= 1$, es el caso organizado).\n",
    "2. Si el asiento está ocupado, se sentará en cualquier asiento disponible.\n",
    "3. El último pasajero, $U$, en subir insistirá en sentarse en su asiento.\n",
    "\n",
    "\n",
    "### Preguntas a responder:\n",
    "1. ¿Cuál es la probabilidad de que $U$ se siente en su asiento (en función de $P$)?\n",
    "2. Si $U$ no encuentra disponible su asiento, ¿de qué tamaño es la cascada de cambios (número de cambios de asiento)?\n",
    "3. ¿Cuál es el número máximo de cambios de asiento?\n"
   ]
  },
  {
   "cell_type": "markdown",
   "id": "81d4dbae-ef71-4534-a70d-4ec1f6b4f005",
   "metadata": {},
   "source": [
    "### Planteamiento del problema:\n",
    "\n",
    "Vamos a imaginar un camión de pasajeros de autobus que se distribuye de la siguiente forma hay cuatro columnas de asientos, cada fila tiene cuatro asientos (uno por columna) asientos y en el medio hay un pasillo. Los asientos son simétricos, por lo que existe la misma cantidad de asientos en el lado derecho y el lado izquierdo. Los asientos serán enumerados de izquierda a derecha y de abajo hacia arriba.\n"
   ]
  },
  {
   "cell_type": "markdown",
   "id": "8ff5308e-2fdf-4ee2-9292-f3e40cd3bbc1",
   "metadata": {},
   "source": [
    "### Simulación\n",
    "Vamos a sentar a las personas usando el asiento y su probabilidad, para ello lo vamos a hacer de forma ordenada siguiendo los siguientes pasos:\n",
    "1. Los usuarios suben uno a la vez.\n",
    "2. Un usuario se puede sentar en su asiento o no, esto esta definido por su probabilidad.\n",
    "3. Si un usuario se sienta donde no va, el siguiente usuario se deberá sentar en otro lugar\n",
    "4. El último usuario quiere sentarse en su asiento y obligará, si otro esta sentado en su lugar, a cambiar al asiento que se le asigno.\n",
    "5. Si un usuario quiere sentarse en su lugar y esta ocupado, puede hacer que se respete su lugar"
   ]
  },
  {
   "cell_type": "code",
   "execution_count": 18,
   "id": "0f4971c5-0e76-4484-93ca-cdebc5eb1a1b",
   "metadata": {},
   "outputs": [],
   "source": [
    "import numpy as np\n",
    "import random \n",
    "import matplotlib.pyplot as plt"
   ]
  },
  {
   "cell_type": "code",
   "execution_count": 122,
   "id": "166804c3-b9c7-47bf-96d3-1f1378751dcf",
   "metadata": {},
   "outputs": [],
   "source": [
    "def obtener_numero_asientos(filas, columnas):\n",
    "    return filas * (columnas - 1)\n",
    "\n",
    "def asignar_asientos(filas= 10, columnas= 5, p=None):\n",
    "    \n",
    "    #Construimos los asientos\n",
    "    n_asientos= obtener_numero_asientos(filas, columnas)\n",
    "    asiento_disponible= [i for i in range(1, n_asientos + 1)]\n",
    "\n",
    "    #Contruimos a los individuos, asignandole un asiento y una probabilidad de que se siente en el asiento dado\n",
    "    usuarios= {}\n",
    "    for i in range( n_asiento - 1 ):\n",
    "        asiento= random.randint(0, len( asiento_disponible ) - 1 )\n",
    "        if( p is None ):\n",
    "            usuarios[ f'usuario_{i + 1}' ]=  [ asiento_disponible.pop( asiento ), random.random(), 'NoAsignado' ] \n",
    "        else:\n",
    "            usuarios[ f'usuario_{i + 1}' ]=  [ asiento_disponible.pop( asiento ), p, 'NoAsignado' ] \n",
    "\n",
    "    #Al último le asignamos una probabilidad de 1, porque así definimos el problema\n",
    "    asiento= random.randint(0, len( asiento_disponible ) - 1 )\n",
    "    usuarios[ f'usuario_{ n_asiento }' ]=  [ asiento_disponible.pop( asiento ), 1, 'NoAsignado' ]\n",
    "    \n",
    "    return usuarios\n",
    "\n",
    "def hacer_experimento( usuarios ):\n",
    "    asientos_disponibles= [ i+1 for i in range(n_asientos) ]\n",
    "    for usuario, valores in usuarios.items():\n",
    "        #Obtenemos la probabilidad de que se siente en su lugar\n",
    "        P= bernoulli.pmf( 1, valores[1] )\n",
    "        if( P > 0.5 ):\n",
    "            try:\n",
    "                asientos_disponibles.remove( valores[0] )\n",
    "                usuarios[ usuario ][2]= valores[0]\n",
    "            except:\n",
    "#                print(\"Asiento ocupado, se asignara un valor aleatorio\")\n",
    "                asiento_aleatorio= random.choice(asientos_disponibles)\n",
    "                usuarios[ usuario ][2]= asiento_aleatorio\n",
    "                asientos_disponibles.remove( asiento_aleatorio )  \n",
    "\n",
    "        else:\n",
    "            asiento_aleatorio= random.choice(asientos_disponibles)\n",
    "            usuarios[ usuario ][2]= asiento_aleatorio\n",
    "            asientos_disponibles.remove( asiento_aleatorio )  \n",
    "    return usuarios\n",
    "\n",
    "def cambiar_asientos(usuarios, usuario1, asiento_tmd):\n",
    "    asiento_asg= usuarios[usuario1][0]\n",
    "    usuarios[usuario1][2]= asiento_asg\n",
    "    \n",
    "    for usuario2, valores in usuarios.items():\n",
    "        if valores[0] == asiento_tmd:\n",
    "            return usuarios, usuario2, valores[2]\n",
    "    "
   ]
  },
  {
   "cell_type": "markdown",
   "id": "5141ef67-11ec-4d66-8c20-00ec1a5c0e56",
   "metadata": {},
   "source": [
    "### ¿Cuál es la probabilidad de que $U$ se siente en su asiento (en función de $P$)?\n",
    "\n",
    "Para resolver esta pregunta se realizaron una cantidad de experimentos, en cada experimento se asignan asientos y probabilidades y se cuentan el número de experimentos en los cuales el último pasajero se sento en us asiento y en cuantos no."
   ]
  },
  {
   "cell_type": "code",
   "execution_count": 92,
   "id": "cc649daa-a2a9-4b89-811e-1454bd5321e7",
   "metadata": {},
   "outputs": [
    {
     "name": "stdout",
     "output_type": "stream",
     "text": [
      "La probabilidad de que se siente es: 0.0525\n"
     ]
    },
    {
     "data": {
      "image/png": "[encoded data removed]",
      "text/plain": [
       "<Figure size 432x288 with 1 Axes>"
      ]
     },
     "metadata": {
      "needs_background": "light"
     },
     "output_type": "display_data"
    }
   ],
   "source": [
    "n_experimentos= 10000\n",
    "u_en_su_asiento= 0\n",
    "random.seed(0)\n",
    "\n",
    "for viaje in range(n_experimentos):\n",
    "    usuarios= hacer_experimento( asignar_asientos() )\n",
    "    u_en_su_asiento+= 1 if usuarios['usuario_40'][0] == usuarios['usuario_40'][2] else 0\n",
    "    \n",
    "plt.bar(['Sí se sento', 'No se sento'],[u_en_su_asiento, n_experimentos - u_en_su_asiento]) \n",
    "print(f\"La probabilidad de que se siente es: {u_en_su_asiento/n_experimentos}\")"
   ]
  },
  {
   "cell_type": "markdown",
   "id": "44a05b2c-2a0e-4008-a971-4904c4f23578",
   "metadata": {},
   "source": [
    "### Si $U$ no encuentra disponible su asiento, ¿de qué tamaño es la cascada de cambios (número de cambios de asiento)?\n",
    "Para resolver esta pregunta se realizaron experimentos, y en los casos de que no se sentó en su lugar, se contaron lo números de cambios realizados para que el último se siente en su lugar"
   ]
  },
  {
   "cell_type": "code",
   "execution_count": 132,
   "id": "43e54bc5-d6b6-48d3-824c-b20d8dd906f5",
   "metadata": {},
   "outputs": [],
   "source": [
    "n_experimentos= 1000\n",
    "p= sorted([ random.random() for _ in range(10) ])\n",
    "l_p= []\n",
    "\n",
    "random.seed(0)\n",
    "for pro in p:\n",
    "    l_cambios= []\n",
    "    for viaje in range(n_experimentos):\n",
    "        usuarios= hacer_experimento( asignar_asientos(p=pro) )\n",
    "        usuario= 'usuario_40'\n",
    "        asiento_asg= usuarios[usuario][0]\n",
    "        asiento_tmd= usuarios[usuario][2]\n",
    "        n_cambios= 0\n",
    "\n",
    "        while( asiento_tmd != asiento_asg ):\n",
    "            usuarios, usuario, asiento_tmd= cambiar_asientos( usuarios, usuario, asiento_tmd)\n",
    "            n_cambios+= 1\n",
    "        l_cambios.append( n_cambios )\n",
    "    l_p.append( l_cambios )"
   ]
  },
  {
   "cell_type": "code",
   "execution_count": 133,
   "id": "21b3513b-e801-412b-9527-9b1e4cb9ed2c",
   "metadata": {},
   "outputs": [
    {
     "data": {
      "text/plain": [
       "[<matplotlib.lines.Line2D at 0x7fe341cb01c0>]"
      ]
     },
     "execution_count": 133,
     "metadata": {},
     "output_type": "execute_result"
    },
    {
     "data": {
      "image/png": "[encoded data removed]",
      "text/plain": [
       "<Figure size 432x288 with 1 Axes>"
      ]
     },
     "metadata": {
      "needs_background": "light"
     },
     "output_type": "display_data"
    }
   ],
   "source": [
    "cambios_mean= [ sum(lista)/len(lista) for lista in l_p ]\n",
    "plt.plot(p, cambios_mean)"
   ]
  },
  {
   "cell_type": "markdown",
   "id": "b362c573-fb8c-4f18-9b0e-6ad34c04bcd2",
   "metadata": {},
   "source": [
    "### ¿Cuál es el número máximo de cambios de asiento?\n",
    "Para mis experimentos fue 19"
   ]
  },
  {
   "cell_type": "code",
   "execution_count": null,
   "id": "94469a20-846c-4b13-8465-d135ab96df83",
   "metadata": {},
   "outputs": [],
   "source": []
  }
 ],
 "metadata": {
  "kernelspec": {
   "display_name": "Python 3.10.0 ('maestria')",
   "language": "python",
   "name": "python3100jvsc74a57bd07762ebd60544f968f8e269abea15df76463f6800ef56f050d75cc52a34f97881"
  },
  "language_info": {
   "codemirror_mode": {
    "name": "ipython",
    "version": 3
   },
   "file_extension": ".py",
   "mimetype": "text/x-python",
   "name": "python",
   "nbconvert_exporter": "python",
   "pygments_lexer": "ipython3",
   "version": "3.10.0"
  }
 },
 "nbformat": 4,
 "nbformat_minor": 5
}
