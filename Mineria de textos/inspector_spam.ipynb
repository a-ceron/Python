{
 "cells": [
  {
   "cell_type": "markdown",
   "metadata": {},
   "source": [
    "# Preparación de datos"
   ]
  },
  {
   "cell_type": "code",
   "execution_count": 1,
   "metadata": {},
   "outputs": [
    {
     "data": {
      "text/html": [
       "<div>\n",
       "<style scoped>\n",
       "    .dataframe tbody tr th:only-of-type {\n",
       "        vertical-align: middle;\n",
       "    }\n",
       "\n",
       "    .dataframe tbody tr th {\n",
       "        vertical-align: top;\n",
       "    }\n",
       "\n",
       "    .dataframe thead th {\n",
       "        text-align: right;\n",
       "    }\n",
       "</style>\n",
       "<table border=\"1\" class=\"dataframe\">\n",
       "  <thead>\n",
       "    <tr style=\"text-align: right;\">\n",
       "      <th></th>\n",
       "      <th>text</th>\n",
       "      <th>target</th>\n",
       "    </tr>\n",
       "  </thead>\n",
       "  <tbody>\n",
       "    <tr>\n",
       "      <th>0</th>\n",
       "      <td>Go until jurong point, crazy.. Available only ...</td>\n",
       "      <td>0</td>\n",
       "    </tr>\n",
       "    <tr>\n",
       "      <th>1</th>\n",
       "      <td>Ok lar... Joking wif u oni...</td>\n",
       "      <td>0</td>\n",
       "    </tr>\n",
       "    <tr>\n",
       "      <th>2</th>\n",
       "      <td>Free entry in 2 a wkly comp to win FA Cup fina...</td>\n",
       "      <td>1</td>\n",
       "    </tr>\n",
       "    <tr>\n",
       "      <th>3</th>\n",
       "      <td>U dun say so early hor... U c already then say...</td>\n",
       "      <td>0</td>\n",
       "    </tr>\n",
       "    <tr>\n",
       "      <th>4</th>\n",
       "      <td>Nah I don't think he goes to usf, he lives aro...</td>\n",
       "      <td>0</td>\n",
       "    </tr>\n",
       "    <tr>\n",
       "      <th>5</th>\n",
       "      <td>FreeMsg Hey there darling it's been 3 week's n...</td>\n",
       "      <td>1</td>\n",
       "    </tr>\n",
       "    <tr>\n",
       "      <th>6</th>\n",
       "      <td>Even my brother is not like to speak with me. ...</td>\n",
       "      <td>0</td>\n",
       "    </tr>\n",
       "    <tr>\n",
       "      <th>7</th>\n",
       "      <td>As per your request 'Melle Melle (Oru Minnamin...</td>\n",
       "      <td>0</td>\n",
       "    </tr>\n",
       "    <tr>\n",
       "      <th>8</th>\n",
       "      <td>WINNER!! As a valued network customer you have...</td>\n",
       "      <td>1</td>\n",
       "    </tr>\n",
       "    <tr>\n",
       "      <th>9</th>\n",
       "      <td>Had your mobile 11 months or more? U R entitle...</td>\n",
       "      <td>1</td>\n",
       "    </tr>\n",
       "  </tbody>\n",
       "</table>\n",
       "</div>"
      ],
      "text/plain": [
       "                                                text  target\n",
       "0  Go until jurong point, crazy.. Available only ...       0\n",
       "1                      Ok lar... Joking wif u oni...       0\n",
       "2  Free entry in 2 a wkly comp to win FA Cup fina...       1\n",
       "3  U dun say so early hor... U c already then say...       0\n",
       "4  Nah I don't think he goes to usf, he lives aro...       0\n",
       "5  FreeMsg Hey there darling it's been 3 week's n...       1\n",
       "6  Even my brother is not like to speak with me. ...       0\n",
       "7  As per your request 'Melle Melle (Oru Minnamin...       0\n",
       "8  WINNER!! As a valued network customer you have...       1\n",
       "9  Had your mobile 11 months or more? U R entitle...       1"
      ]
     },
     "execution_count": 1,
     "metadata": {},
     "output_type": "execute_result"
    }
   ],
   "source": [
    "import pandas as pd\n",
    "import numpy as np\n",
    "\n",
    "spam_data = pd.read_csv('spam.csv')\n",
    "\n",
    "spam_data['target'] = np.where(spam_data['target']=='spam',1,0)\n",
    "spam_data.head(10)"
   ]
  },
  {
   "cell_type": "markdown",
   "metadata": {},
   "source": [
    "# División de muestras en entrenamiento (train) y prueba (test)"
   ]
  },
  {
   "cell_type": "code",
   "execution_count": 2,
   "metadata": {},
   "outputs": [
    {
     "name": "stdout",
     "output_type": "stream",
     "text": [
      "4179\n"
     ]
    }
   ],
   "source": [
    "from sklearn.model_selection import train_test_split\n",
    "\n",
    "\n",
    "X_train, X_test, y_train, y_test = train_test_split(spam_data['text'], \n",
    "                                                    spam_data['target'], \n",
    "                                                    random_state=0)\n",
    "print(len(X_train))"
   ]
  },
  {
   "cell_type": "markdown",
   "metadata": {},
   "source": [
    "### Pregunta 1\n",
    "\n",
    "Ajustar los datos de entrenamiento `X_train` utilizando un `count_vectorizer` con parámetros predeterminados.\n",
    "\n",
    "¿Cuál es el token más largo en el vocabulario?\n",
    "\n",
    "*Esta función debería devolver una cadena.*"
   ]
  },
  {
   "cell_type": "code",
   "execution_count": 3,
   "metadata": {},
   "outputs": [],
   "source": [
    "from sklearn.feature_extraction.text import CountVectorizer\n",
    "\n",
    "def tokenizacion( corpus ):\n",
    "    vectorizer = CountVectorizer()\n",
    "    X = vectorizer.fit_transform(corpus)\n",
    "    return vectorizer.get_feature_names_out()\n",
    "\n",
    "\n",
    "def respuesta_uno(  ):\n",
    "    uno= tokenizacion( X_train )\n",
    "    return max(uno, key=len)"
   ]
  },
  {
   "cell_type": "code",
   "execution_count": 4,
   "metadata": {},
   "outputs": [
    {
     "name": "stdout",
     "output_type": "stream",
     "text": [
      "com1win150ppmx3age16subscription\n"
     ]
    }
   ],
   "source": [
    "#print(respuesta_uno( ))   # spam_data['text']: hypotheticalhuagauahahuagahyuhagga\n",
    "print(respuesta_uno( ))  # X_train: com1win150ppmx3age16subscription"
   ]
  },
  {
   "cell_type": "code",
   "execution_count": 5,
   "metadata": {},
   "outputs": [],
   "source": [
    "spam= pd.Series(spam_data.groupby('target').get_group(1)['text'])\n",
    "n_spam= pd.Series(spam_data.groupby('target').get_group(0)['text'])"
   ]
  },
  {
   "cell_type": "markdown",
   "metadata": {},
   "source": [
    "### Pregunta 2\n",
    "\n",
    "¿Cuál es el número promedio de caracteres por documento para los documentos no spam y spam?\n",
    "\n",
    "*Esta función debe devolver una tupla (promedio de # caracteres no es spam, promedio # caracteres spam).*"
   ]
  },
  {
   "cell_type": "code",
   "execution_count": 6,
   "metadata": {},
   "outputs": [
    {
     "data": {
      "text/plain": [
       "(138.8661311914324, 458.7536813922356)"
      ]
     },
     "execution_count": 6,
     "metadata": {},
     "output_type": "execute_result"
    }
   ],
   "source": [
    "def respuesta_dos( ):    \n",
    "    #spam\n",
    "    count= 0\n",
    "    for text in spam:\n",
    "        count+= len(text)\n",
    "        \n",
    "    s_spam= count / spam.shape[0]\n",
    "    \n",
    "    #no_spam\n",
    "    count= 0\n",
    "    for text in n_spam:\n",
    "        count+= len(text)\n",
    "        \n",
    "    s_nspam= count / spam.shape[0]\n",
    "    \n",
    "    return s_spam, s_nspam\n",
    "    \n",
    "respuesta_dos()"
   ]
  },
  {
   "cell_type": "markdown",
   "metadata": {},
   "source": [
    "### Pregunta 3\n",
    "\n",
    "¿Cuál es el número promedio de dígitos por documento para los documentos no spam y spam?\n",
    "\n",
    "*Esta función debe devolver una tupla (promedio de # dígitos no es spam, promedio # dígitos spam).*"
   ]
  },
  {
   "cell_type": "code",
   "execution_count": 8,
   "metadata": {},
   "outputs": [
    {
     "data": {
      "text/plain": [
       "(15.759036144578314, 0.2992746113989637)"
      ]
     },
     "execution_count": 8,
     "metadata": {},
     "output_type": "execute_result"
    }
   ],
   "source": [
    "def respuesta_tres():\n",
    "    er= \"[0-9]\"\n",
    "    \n",
    "    #Spam\n",
    "    num_spam= spam.str.count(er).mean()\n",
    "    \n",
    "    #No spam\n",
    "    num_nspam= n_spam.str.count(er).mean()\n",
    "\n",
    "    return num_spam, num_nspam\n",
    "\n",
    "respuesta_tres()"
   ]
  },
  {
   "cell_type": "markdown",
   "metadata": {},
   "source": [
    "### Pregunta 4\n",
    "\n",
    "¿Cuál es el número promedio de caracteres que no son palabras (cualquier cosa que no sea una letra, un dígito o un guión bajo) por documento para los documentos que no son spam y spam?\n",
    "\n",
    "*Sugerencia: utilice las clases de caracteres `\\ w` y` \\ W`*\n",
    "\n",
    "*Esta función debe devolver una tupla (promedio de # caracteres que no son palabras, no spam, promedio de # caracteres que no son palabras, spam).*"
   ]
  },
  {
   "cell_type": "code",
   "execution_count": 9,
   "metadata": {},
   "outputs": [
    {
     "data": {
      "text/plain": [
       "(29.041499330655956, 17.29181347150259)"
      ]
     },
     "execution_count": 9,
     "metadata": {},
     "output_type": "execute_result"
    }
   ],
   "source": [
    "def pregunta_cuatro():\n",
    "    er= \"\\W\"\n",
    "\n",
    "    #Spam\n",
    "    num_spam= spam.str.count(er).mean()\n",
    "    \n",
    "    #No spam\n",
    "    num_nspam= n_spam.str.count(er).mean()\n",
    "    \n",
    "    return num_spam, num_nspam\n",
    "\n",
    "pregunta_cuatro()"
   ]
  },
  {
   "cell_type": "markdown",
   "metadata": {},
   "source": [
    "### Pregunta 5\n",
    "\n",
    "¿Cuál es el tamaño del vocabulario en `X_train` y `X_test`, primero utilizando la función `fit_transform` en ambos (train y test), luego utilizando `fit_transform` sobre el train y solo `transform` en el test\n",
    "\n",
    "\n",
    "\n",
    "*Esta función debe devolver dos tuplas una con `fit_transform` y la otra con `transform` (vocabulario en `X_train`, vocabulario en `X_test`), (vocabulario en `X_train`, vocabulario en `X_test`).*.*"
   ]
  },
  {
   "cell_type": "code",
   "execution_count": 10,
   "metadata": {},
   "outputs": [
    {
     "data": {
      "text/plain": [
       "(<4179x7354 sparse matrix of type '<class 'numpy.int64'>'\n",
       " \twith 55130 stored elements in Compressed Sparse Row format>,\n",
       " <1393x4170 sparse matrix of type '<class 'numpy.int64'>'\n",
       " \twith 18786 stored elements in Compressed Sparse Row format>,\n",
       " <1393x4170 sparse matrix of type '<class 'numpy.int64'>'\n",
       " \twith 18786 stored elements in Compressed Sparse Row format>)"
      ]
     },
     "execution_count": 10,
     "metadata": {},
     "output_type": "execute_result"
    }
   ],
   "source": [
    "def respuesta_cinco():\n",
    "    vectorizer= CountVectorizer()\n",
    "    \n",
    "    voc_xtrain= vectorizer.fit_transform( X_train )\n",
    "    voc_xtest= vectorizer.fit_transform( X_test )\n",
    "    \n",
    "    voc_xtext2= vectorizer.transform(X_test)\n",
    "\n",
    "    return voc_xtrain, voc_xtest, voc_xtext2\n",
    "\n",
    "respuesta_cinco()"
   ]
  },
  {
   "cell_type": "markdown",
   "metadata": {},
   "source": [
    "### Pregunta 6\n",
    "\n",
    "¿Cuales son las 10 palabras mas frecuentes (sin tener en cuenta *Stopwords*) en los documentos que no son spam y spam?\n",
    "\n",
    "\n",
    "*Esta función debe devolver una tupla (palabras mas frecuentes, no spam, palabras mas frecuentes, spam).*"
   ]
  },
  {
   "cell_type": "code",
   "execution_count": 11,
   "metadata": {},
   "outputs": [
    {
     "name": "stdout",
     "output_type": "stream",
     "text": [
      "['no...', 'XXXMobileMovieClub:', 'credit,', 'click', 'Macedonia', 'miss', 'goals/team', '07732584351', 'Rodger', 'Burns']\n",
      "['jurong', 'point,', 'crazy..', 'Available', 'Joking', 'oni...', 'hor...', 'lives', 'DATE', 'SUNDAY']\n"
     ]
    }
   ],
   "source": [
    "from collections import Counter\n",
    "\n",
    "def obtener_tokens( texto:str, sklearn= False):\n",
    "    \"\"\"\n",
    "        Regresa una lista de palabras\n",
    "    \"\"\"\n",
    "    if( sklearn ):\n",
    "        from sklearn.feature_extraction.text import CountVectorizer\n",
    "        \n",
    "        vectorizer = CountVectorizer()\n",
    "        X = vectorizer.fit_transform( texto )\n",
    "        return vectorizer.get_feature_names_out()\n",
    "    \n",
    "    if( type(texto) is not str ):\n",
    "        texto= ' '.join( list(texto) )\n",
    "        \n",
    "    return texto.split(' ')\n",
    "\n",
    "spam= spam_data.groupby('target')['text'].get_group(1).to_string(index=False)\n",
    "n_spam= spam_data.groupby('target')['text'].get_group(0).to_string(index=False)\n",
    "\n",
    "palabras= Counter(obtener_tokens(spam.replace('\\n',' ')))\n",
    "\n",
    "sorted_w= dict(sorted(palabras.items(), key=lambda item: item[1]))\n",
    "words= list(sorted_w.keys())[:10]\n",
    "print(words)\n",
    "\n",
    "palabras= Counter(obtener_tokens(n_spam.replace('\\n',' ')))\n",
    "\n",
    "sorted_w= dict(sorted(palabras.items(), key=lambda item: item[1]))\n",
    "words= list(sorted_w.keys())[:10]\n",
    "print(words)"
   ]
  },
  {
   "cell_type": "markdown",
   "metadata": {},
   "source": [
    "### Pregunta 7\n",
    "\n",
    "¿Cuales son las 10 palabras mas frecuentes (solo teniendo en cuenta *Stopwords*) en los documentos que no son spam y spam?\n",
    "\n",
    "\n",
    "*Esta función debe devolver una tupla (palabras mas frecuentes, no spam, palabras mas frecuentes, spam).*"
   ]
  },
  {
   "cell_type": "code",
   "execution_count": 12,
   "metadata": {},
   "outputs": [
    {
     "name": "stdout",
     "output_type": "stream",
     "text": [
      "['no...', 'XXXMobileMovieClub:', 'credit,', 'click', 'Macedonia', 'miss', 'goals/team', '07732584351', 'Rodger', 'Burns']\n",
      "['jurong', 'point,', 'crazy..', 'Available', 'Joking', 'oni...', 'hor...', 'lives', 'DATE', 'SUNDAY']\n"
     ]
    }
   ],
   "source": [
    "from nltk.corpus import stopwords # Import the stop word list\n",
    "\n",
    "stop_words = set(stopwords.words('english')) # creating a set makes the searching faster\n",
    "\n",
    "spam= spam_data.groupby('target')['text'].get_group(1).to_string(index=False)\n",
    "n_spam= spam_data.groupby('target')['text'].get_group(0).to_string(index=False)\n",
    "\n",
    "palabras= Counter(obtener_tokens(spam.replace('\\n',' ')))\n",
    "for sw in stop_words:\n",
    "    palabras.pop(sw,None)\n",
    "    \n",
    "sorted_w= dict(sorted(palabras.items(), key=lambda item: item[1]))\n",
    "words= list(sorted_w.keys())[:10]\n",
    "print(words)\n",
    "\n",
    "palabras= Counter(obtener_tokens(n_spam.replace('\\n',' ')))\n",
    "for sw in stop_words:\n",
    "    palabras.pop(sw,None)\n",
    "    \n",
    "sorted_w= dict(sorted(palabras.items(), key=lambda item: item[1]))\n",
    "words= list(sorted_w.keys())[:10]\n",
    "print(words)"
   ]
  }
 ],
 "metadata": {
  "kernelspec": {
   "display_name": "Python 3.10.0 ('maestria')",
   "language": "python",
   "name": "python3100jvsc74a57bd07762ebd60544f968f8e269abea15df76463f6800ef56f050d75cc52a34f97881"
  },
  "language_info": {
   "codemirror_mode": {
    "name": "ipython",
    "version": 3
   },
   "file_extension": ".py",
   "mimetype": "text/x-python",
   "name": "python",
   "nbconvert_exporter": "python",
   "pygments_lexer": "ipython3",
   "version": "3.10.0"
  }
 },
 "nbformat": 4,
 "nbformat_minor": 4
}
